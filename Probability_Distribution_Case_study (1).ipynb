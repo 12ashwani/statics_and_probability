{
 "cells": [
  {
   "cell_type": "markdown",
   "metadata": {
    "id": "RpqF22Qe0npO"
   },
   "source": [
    "#A Case Study on Probability Distributions\n",
    "\n"
   ]
  },
  {
   "cell_type": "markdown",
   "metadata": {
    "id": "3AexE8ZPECXa"
   },
   "source": [
    "## Problem Statement\n",
    "\n",
    "Akshay decided to use probability distributions for finding outliers and other useful information about the athletes while also understanding the spread of the dataset. He wanted to use basic distributions such as normal distributions, binomial distributions, uniform distributions, etc. Akshay also has another dataset from which he hopes to examine the earnings of different athletes. Akshay also wants to uncover outliers in the data as well as the most likely combinations of elements."
   ]
  },
  {
   "cell_type": "markdown",
   "metadata": {
    "id": "bvTHfsuX_5JJ"
   },
   "source": [
    "## Dataset Description\n",
    "<br>\n",
    "\n",
    " **rcc** - Red Blood Cell Count, in 1012-1\n",
    "\n",
    " **Wcc** - White Blood Cell Count, in 1012 per liter\n",
    " \n",
    " **Hc** - Hematocrit, percent\n",
    "\n",
    " **Hg** - Hemaglobin Concentration, in g per decaliter\n",
    "\n",
    " **Ferr** - Plasma Ferritins, ng dl-1\n",
    "\n",
    " **Bmi** - Body Mass Index, kg cm-2102\n",
    "\n",
    " **ssf** - sum of skin folds\n",
    "\n",
    " **pcBfat** - Percent Body Fat\n",
    "\n",
    " **Lbm** - Lean Body Mass, kg\n",
    "\n",
    " **Ht** - Height, cm\n",
    "\n",
    " **Wt** - Weight, kg\n",
    "\n",
    " **Sex** - a factor with levels f m\n",
    " \n",
    " **Sport** - This includes a variety of sports fields (B_Ball, Row, Netball, Swim, Field, T_400m, T_Sprnt, Tennis, Gym, and W_Polo). "
   ]
  },
  {
   "cell_type": "markdown",
   "metadata": {
    "id": "WQ6CRBMMfcwL"
   },
   "source": [
    "<a id='toc0_'></a>**Table of contents**  \n",
    "\n",
    "- [**A Case Study on Probability Distributions**](#toc1_)        \n",
    "  - [**1. Introduction**](#toc1_1_)\n",
    "      - [**What is Probability Distrbution**](#toc1_1_1)\n",
    "  - [**2. Importing Necessary Libraries**](#toc1_2_)    \n",
    "  - [**3. Loading Dataset**](#toc1_3_)    \n",
    "  - [**4. Perform Exploratory Data Analysis**](#toc1_4_)    \n",
    "    - [**Finding and handling null values**](#toc1_4_1_)\n",
    "    - [**Finding and handling duplicate values**](#toc1_4_2_)    \n",
    "    - [**Dropping the Duplicated Values**](#toc1_4_3_)    \n",
    "    - [**The number of unique values for each column**](#toc1_4_4_) \n",
    "    - [**Finding the Correlations between the columns**](#toc1_4_5_)  \n",
    "  - [**5. Normal Distribution**](#toc1_5_) \n",
    "  - [**6. Uniform Distribution**](#toc1_6_) \n",
    "  - [**7. Binominal Distribution**](#toc1_7_)\n",
    "  - [**8. Bernoulli Distribution**](#toc1_10_)\n",
    "  - [**9. Poisson Distribution**](#toc1_8_)\n",
    "  - [**10. Exponential Distribution**](#toc1_9_)\n",
    "  - [**11. Conclusion**](#toc1_11_)\n"
   ]
  },
  {
   "cell_type": "markdown",
   "metadata": {
    "id": "0TAwStfDycMv"
   },
   "source": [
    "## <a id='toc1_1_'></a>[1. Introduction](#toc0_)"
   ]
  },
  {
   "cell_type": "markdown",
   "metadata": {
    "id": "GY3e2X5v0wAZ"
   },
   "source": [
    "## <a id='toc1_2_1'></a>[What is Probability Distribution](#toc0_)\n",
    "\n",
    "A probability distribution is a statistical function that helps describe the probability of reaching potential values ​​of a random variable. Determine all the possibilities that a random variable can represent from a range of values. This range includes lower and upper bounds containing the minimum and maximum values ​​required for analysis from the dataset.\n",
    "\n",
    "\n",
    "In this case study, we will examine the following six forms of probability distribution:\n",
    "\n",
    "\n",
    "1. Normal Distribution\n",
    "2. Uniform distribution\n",
    "3. Binomial Distribution\n",
    "4. Poisson distribution\n",
    "5. Exponential Distribution\n",
    "6. Bernoulli distribution\n",
    "\n",
    "\n"
   ]
  },
  {
   "cell_type": "markdown",
   "metadata": {
    "id": "XNM1U3vqyb9w"
   },
   "source": [
    "## <a id='toc1_2_'></a>[2. Importing Necessary Libraries](#toc0_)\n",
    "Here we are importing the libraries that are used in the code.<br>\n",
    "\n",
    "The following libraries are imported:<br>\n",
    "* Pandas : for Data Manuplation<br>\n",
    "* Numpy : for Numerical computation.<br>\n",
    "* seaborn and matplotlib and plotly : for beautiful Data Visualization <br>"
   ]
  },
  {
   "cell_type": "code",
   "execution_count": 35,
   "metadata": {
    "id": "U9UA4D8Pybdu"
   },
   "outputs": [],
   "source": [
    "#importing necessary libraries\n",
    "import numpy as np\n",
    "import scipy.stats\n",
    "import pandas as pd\n",
    "import matplotlib.pyplot as plt\n",
    "import seaborn as sns\n",
    "import plotly.express as px\n",
    "from scipy import stats "
   ]
  },
  {
   "cell_type": "markdown",
   "metadata": {
    "id": "emwaftVYzjzT"
   },
   "source": [
    "## <a id='toc1_3_'></a>[3. Loading Dataset](#toc0_)\n",
    "Here we are using the pandas module to import the dataset from the \"CSV\" file using the `read_csv()` Function.<br>\n",
    "\n",
    "You can read more about on <a href=\"https://pandas.pydata.org/docs/reference/api/pandas.read_csv.html\"> This Link</a>."
   ]
  },
  {
   "cell_type": "code",
   "execution_count": 36,
   "metadata": {
    "id": "kbaSYZMlzjLG"
   },
   "outputs": [],
   "source": [
    "df = pd.read_csv('aus.csv') #loading the csv File to dataset"
   ]
  },
  {
   "cell_type": "markdown",
   "metadata": {
    "id": "1nM-nFJk0Dtu"
   },
   "source": [
    "Here we are using the `head()` method to see the first five rows of the columns."
   ]
  },
  {
   "cell_type": "code",
   "execution_count": 37,
   "metadata": {
    "colab": {
     "base_uri": "https://localhost:8080/",
     "height": 363
    },
    "executionInfo": {
     "elapsed": 58,
     "status": "ok",
     "timestamp": 1673986361689,
     "user": {
      "displayName": "sasidhar Sai",
      "userId": "03910604699370000651"
     },
     "user_tz": -330
    },
    "id": "n4zwndc8yJDP",
    "outputId": "b02990f2-ba06-419c-96b5-1f92aeac6b1a"
   },
   "outputs": [
    {
     "data": {
      "text/html": [
       "<div>\n",
       "<style scoped>\n",
       "    .dataframe tbody tr th:only-of-type {\n",
       "        vertical-align: middle;\n",
       "    }\n",
       "\n",
       "    .dataframe tbody tr th {\n",
       "        vertical-align: top;\n",
       "    }\n",
       "\n",
       "    .dataframe thead th {\n",
       "        text-align: right;\n",
       "    }\n",
       "</style>\n",
       "<table border=\"1\" class=\"dataframe\">\n",
       "  <thead>\n",
       "    <tr style=\"text-align: right;\">\n",
       "      <th></th>\n",
       "      <th>rcc</th>\n",
       "      <th>wcc</th>\n",
       "      <th>hc</th>\n",
       "      <th>hg</th>\n",
       "      <th>ferr</th>\n",
       "      <th>bmi</th>\n",
       "      <th>ssf</th>\n",
       "      <th>pcBfat</th>\n",
       "      <th>lbm</th>\n",
       "      <th>ht</th>\n",
       "      <th>wt</th>\n",
       "      <th>sex</th>\n",
       "      <th>sport</th>\n",
       "    </tr>\n",
       "  </thead>\n",
       "  <tbody>\n",
       "    <tr>\n",
       "      <th>0</th>\n",
       "      <td>3.96</td>\n",
       "      <td>7.5</td>\n",
       "      <td>37.5</td>\n",
       "      <td>12.3</td>\n",
       "      <td>60</td>\n",
       "      <td>20.56</td>\n",
       "      <td>109.1</td>\n",
       "      <td>19.75</td>\n",
       "      <td>63.32</td>\n",
       "      <td>195.9</td>\n",
       "      <td>78.9</td>\n",
       "      <td>f</td>\n",
       "      <td>B_Ball</td>\n",
       "    </tr>\n",
       "    <tr>\n",
       "      <th>1</th>\n",
       "      <td>4.41</td>\n",
       "      <td>8.3</td>\n",
       "      <td>38.2</td>\n",
       "      <td>12.7</td>\n",
       "      <td>68</td>\n",
       "      <td>20.67</td>\n",
       "      <td>102.8</td>\n",
       "      <td>21.30</td>\n",
       "      <td>58.55</td>\n",
       "      <td>189.7</td>\n",
       "      <td>74.4</td>\n",
       "      <td>f</td>\n",
       "      <td>B_Ball</td>\n",
       "    </tr>\n",
       "    <tr>\n",
       "      <th>2</th>\n",
       "      <td>4.14</td>\n",
       "      <td>5.0</td>\n",
       "      <td>36.4</td>\n",
       "      <td>11.6</td>\n",
       "      <td>21</td>\n",
       "      <td>21.86</td>\n",
       "      <td>104.6</td>\n",
       "      <td>19.88</td>\n",
       "      <td>55.36</td>\n",
       "      <td>177.8</td>\n",
       "      <td>69.1</td>\n",
       "      <td>f</td>\n",
       "      <td>B_Ball</td>\n",
       "    </tr>\n",
       "    <tr>\n",
       "      <th>3</th>\n",
       "      <td>4.11</td>\n",
       "      <td>5.3</td>\n",
       "      <td>37.3</td>\n",
       "      <td>12.6</td>\n",
       "      <td>69</td>\n",
       "      <td>21.88</td>\n",
       "      <td>126.4</td>\n",
       "      <td>23.66</td>\n",
       "      <td>57.18</td>\n",
       "      <td>185.0</td>\n",
       "      <td>74.9</td>\n",
       "      <td>f</td>\n",
       "      <td>B_Ball</td>\n",
       "    </tr>\n",
       "    <tr>\n",
       "      <th>4</th>\n",
       "      <td>4.45</td>\n",
       "      <td>6.8</td>\n",
       "      <td>41.5</td>\n",
       "      <td>14.0</td>\n",
       "      <td>29</td>\n",
       "      <td>18.96</td>\n",
       "      <td>80.3</td>\n",
       "      <td>17.64</td>\n",
       "      <td>53.20</td>\n",
       "      <td>184.6</td>\n",
       "      <td>64.6</td>\n",
       "      <td>f</td>\n",
       "      <td>B_Ball</td>\n",
       "    </tr>\n",
       "    <tr>\n",
       "      <th>5</th>\n",
       "      <td>4.10</td>\n",
       "      <td>4.4</td>\n",
       "      <td>37.4</td>\n",
       "      <td>12.5</td>\n",
       "      <td>42</td>\n",
       "      <td>21.04</td>\n",
       "      <td>75.2</td>\n",
       "      <td>15.58</td>\n",
       "      <td>53.77</td>\n",
       "      <td>174.0</td>\n",
       "      <td>63.7</td>\n",
       "      <td>f</td>\n",
       "      <td>B_Ball</td>\n",
       "    </tr>\n",
       "    <tr>\n",
       "      <th>6</th>\n",
       "      <td>4.31</td>\n",
       "      <td>5.3</td>\n",
       "      <td>39.6</td>\n",
       "      <td>12.8</td>\n",
       "      <td>73</td>\n",
       "      <td>21.69</td>\n",
       "      <td>87.2</td>\n",
       "      <td>19.99</td>\n",
       "      <td>60.17</td>\n",
       "      <td>186.2</td>\n",
       "      <td>75.2</td>\n",
       "      <td>f</td>\n",
       "      <td>B_Ball</td>\n",
       "    </tr>\n",
       "    <tr>\n",
       "      <th>7</th>\n",
       "      <td>4.42</td>\n",
       "      <td>5.7</td>\n",
       "      <td>39.9</td>\n",
       "      <td>13.2</td>\n",
       "      <td>44</td>\n",
       "      <td>20.62</td>\n",
       "      <td>97.9</td>\n",
       "      <td>22.43</td>\n",
       "      <td>48.33</td>\n",
       "      <td>173.8</td>\n",
       "      <td>62.3</td>\n",
       "      <td>f</td>\n",
       "      <td>B_Ball</td>\n",
       "    </tr>\n",
       "    <tr>\n",
       "      <th>8</th>\n",
       "      <td>4.30</td>\n",
       "      <td>8.9</td>\n",
       "      <td>41.1</td>\n",
       "      <td>13.5</td>\n",
       "      <td>41</td>\n",
       "      <td>22.64</td>\n",
       "      <td>75.1</td>\n",
       "      <td>17.95</td>\n",
       "      <td>54.57</td>\n",
       "      <td>171.4</td>\n",
       "      <td>66.5</td>\n",
       "      <td>f</td>\n",
       "      <td>B_Ball</td>\n",
       "    </tr>\n",
       "    <tr>\n",
       "      <th>9</th>\n",
       "      <td>4.51</td>\n",
       "      <td>4.4</td>\n",
       "      <td>41.6</td>\n",
       "      <td>12.7</td>\n",
       "      <td>44</td>\n",
       "      <td>19.44</td>\n",
       "      <td>65.1</td>\n",
       "      <td>15.07</td>\n",
       "      <td>53.42</td>\n",
       "      <td>179.9</td>\n",
       "      <td>62.9</td>\n",
       "      <td>f</td>\n",
       "      <td>B_Ball</td>\n",
       "    </tr>\n",
       "  </tbody>\n",
       "</table>\n",
       "</div>"
      ],
      "text/plain": [
       "    rcc  wcc    hc    hg  ferr    bmi    ssf  pcBfat    lbm     ht    wt sex  \\\n",
       "0  3.96  7.5  37.5  12.3    60  20.56  109.1   19.75  63.32  195.9  78.9   f   \n",
       "1  4.41  8.3  38.2  12.7    68  20.67  102.8   21.30  58.55  189.7  74.4   f   \n",
       "2  4.14  5.0  36.4  11.6    21  21.86  104.6   19.88  55.36  177.8  69.1   f   \n",
       "3  4.11  5.3  37.3  12.6    69  21.88  126.4   23.66  57.18  185.0  74.9   f   \n",
       "4  4.45  6.8  41.5  14.0    29  18.96   80.3   17.64  53.20  184.6  64.6   f   \n",
       "5  4.10  4.4  37.4  12.5    42  21.04   75.2   15.58  53.77  174.0  63.7   f   \n",
       "6  4.31  5.3  39.6  12.8    73  21.69   87.2   19.99  60.17  186.2  75.2   f   \n",
       "7  4.42  5.7  39.9  13.2    44  20.62   97.9   22.43  48.33  173.8  62.3   f   \n",
       "8  4.30  8.9  41.1  13.5    41  22.64   75.1   17.95  54.57  171.4  66.5   f   \n",
       "9  4.51  4.4  41.6  12.7    44  19.44   65.1   15.07  53.42  179.9  62.9   f   \n",
       "\n",
       "    sport  \n",
       "0  B_Ball  \n",
       "1  B_Ball  \n",
       "2  B_Ball  \n",
       "3  B_Ball  \n",
       "4  B_Ball  \n",
       "5  B_Ball  \n",
       "6  B_Ball  \n",
       "7  B_Ball  \n",
       "8  B_Ball  \n",
       "9  B_Ball  "
      ]
     },
     "execution_count": 37,
     "metadata": {},
     "output_type": "execute_result"
    }
   ],
   "source": [
    "df.head(10)"
   ]
  },
  {
   "cell_type": "markdown",
   "metadata": {
    "id": "VZkN6tJC_XrL"
   },
   "source": [
    "Here we are going to take look at the names of the columns.<br>\n",
    "\n",
    "We can use the `columns()` method to see the list that contains names of the columns.<br>\n"
   ]
  },
  {
   "cell_type": "code",
   "execution_count": 38,
   "metadata": {
    "colab": {
     "base_uri": "https://localhost:8080/"
    },
    "executionInfo": {
     "elapsed": 46,
     "status": "ok",
     "timestamp": 1673986361690,
     "user": {
      "displayName": "sasidhar Sai",
      "userId": "03910604699370000651"
     },
     "user_tz": -330
    },
    "id": "BhLJ6B3x_XJX",
    "outputId": "85b173fd-68bf-4fa1-be6e-92cf5dcbc973"
   },
   "outputs": [
    {
     "data": {
      "text/plain": [
       "Index(['rcc', 'wcc', 'hc', 'hg', 'ferr', 'bmi', 'ssf', 'pcBfat', 'lbm', 'ht',\n",
       "       'wt', 'sex', 'sport'],\n",
       "      dtype='object')"
      ]
     },
     "execution_count": 38,
     "metadata": {},
     "output_type": "execute_result"
    }
   ],
   "source": [
    "df.columns"
   ]
  },
  {
   "cell_type": "markdown",
   "metadata": {
    "id": "RCh3uMmu_txX"
   },
   "source": [
    "Let's take small look at the datatype of the values of each colum.<br>\n",
    "\n",
    "We can do it by using the `info()` method of the dataframe."
   ]
  },
  {
   "cell_type": "code",
   "execution_count": 39,
   "metadata": {
    "colab": {
     "base_uri": "https://localhost:8080/"
    },
    "executionInfo": {
     "elapsed": 39,
     "status": "ok",
     "timestamp": 1673986361691,
     "user": {
      "displayName": "sasidhar Sai",
      "userId": "03910604699370000651"
     },
     "user_tz": -330
    },
    "id": "xunvSXh6_tHy",
    "outputId": "229ebe6f-2afe-4566-c5be-cc37bf40d444"
   },
   "outputs": [
    {
     "name": "stdout",
     "output_type": "stream",
     "text": [
      "<class 'pandas.core.frame.DataFrame'>\n",
      "RangeIndex: 202 entries, 0 to 201\n",
      "Data columns (total 13 columns):\n",
      " #   Column  Non-Null Count  Dtype  \n",
      "---  ------  --------------  -----  \n",
      " 0   rcc     202 non-null    float64\n",
      " 1   wcc     202 non-null    float64\n",
      " 2   hc      202 non-null    float64\n",
      " 3   hg      202 non-null    float64\n",
      " 4   ferr    202 non-null    int64  \n",
      " 5   bmi     202 non-null    float64\n",
      " 6   ssf     202 non-null    float64\n",
      " 7   pcBfat  202 non-null    float64\n",
      " 8   lbm     202 non-null    float64\n",
      " 9   ht      202 non-null    float64\n",
      " 10  wt      202 non-null    float64\n",
      " 11  sex     202 non-null    object \n",
      " 12  sport   202 non-null    object \n",
      "dtypes: float64(10), int64(1), object(2)\n",
      "memory usage: 20.6+ KB\n"
     ]
    }
   ],
   "source": [
    "df.info()"
   ]
  },
  {
   "cell_type": "markdown",
   "metadata": {
    "id": "T7KPjR4cAFIP"
   },
   "source": [
    "As you can see, there are one column with integer values, two columns with objects values, and ten more columns with float type values. "
   ]
  },
  {
   "cell_type": "markdown",
   "metadata": {
    "id": "KRtr-thgguVA"
   },
   "source": [
    "## <a id='toc1_4_'></a>[4. Perform Exploratory Analysis](#toc0_)"
   ]
  },
  {
   "cell_type": "markdown",
   "metadata": {
    "id": "tCRlYYrNB-Aw"
   },
   "source": [
    "## <a id='toc1_5_1_'></a>[Finding and handling null values.](#toc0_)"
   ]
  },
  {
   "cell_type": "markdown",
   "metadata": {
    "id": "HhEJu1ovCcNZ"
   },
   "source": [
    "You can check for the null values by method called as `isna()`.\n",
    "\n",
    "You can read more about on <a href=\"https://pythontic.com/pandas/dataframe-manipulations/duplicates-and-missing-values#:~:text=The%20drop_duplicates()%20method%20removes,with%20the%20parameter%20%22keep%22.\"> This link</a>.<br>\n",
    "\n",
    "Hint:- also use the `sum()` method to get the numbers of null values.<br>"
   ]
  },
  {
   "cell_type": "code",
   "execution_count": 40,
   "metadata": {
    "colab": {
     "base_uri": "https://localhost:8080/"
    },
    "executionInfo": {
     "elapsed": 34,
     "status": "ok",
     "timestamp": 1673986361691,
     "user": {
      "displayName": "sasidhar Sai",
      "userId": "03910604699370000651"
     },
     "user_tz": -330
    },
    "id": "L30r4Mm3B9cl",
    "outputId": "711ea96a-ef41-447b-f900-908d00520dd6"
   },
   "outputs": [
    {
     "data": {
      "text/plain": [
       "rcc       0\n",
       "wcc       0\n",
       "hc        0\n",
       "hg        0\n",
       "ferr      0\n",
       "bmi       0\n",
       "ssf       0\n",
       "pcBfat    0\n",
       "lbm       0\n",
       "ht        0\n",
       "wt        0\n",
       "sex       0\n",
       "sport     0\n",
       "dtype: int64"
      ]
     },
     "execution_count": 40,
     "metadata": {},
     "output_type": "execute_result"
    }
   ],
   "source": [
    "df.isna().sum()"
   ]
  },
  {
   "cell_type": "markdown",
   "metadata": {
    "id": "Zdpy8TeaDKAN"
   },
   "source": [
    "There is no null values in the dataset."
   ]
  },
  {
   "cell_type": "markdown",
   "metadata": {
    "id": "ExhwtUFuFB6I"
   },
   "source": [
    "## <a id='toc1_5_2_'></a>[Finding and handling duplicate values.](#toc0_)\n"
   ]
  },
  {
   "cell_type": "markdown",
   "metadata": {
    "id": "NGGU_q-TFQ_W"
   },
   "source": [
    "Here you can check you the duplicated values by using the `duplicated()` method from pandas dataframe.<br>\n",
    "\n",
    "You can read more about it in <a href=\"https://pandas.pydata.org/pandas-docs/stable/generated/pandas.DataFrame.duplicated.html\">This link</a>.<br>\n",
    "\n",
    "Hint:- also use the `sum()` method to get the numbers of null values.<br>"
   ]
  },
  {
   "cell_type": "code",
   "execution_count": 41,
   "metadata": {
    "colab": {
     "base_uri": "https://localhost:8080/"
    },
    "executionInfo": {
     "elapsed": 30,
     "status": "ok",
     "timestamp": 1673986361692,
     "user": {
      "displayName": "sasidhar Sai",
      "userId": "03910604699370000651"
     },
     "user_tz": -330
    },
    "id": "FSOy1qAXFBUW",
    "outputId": "fcaa98f6-adfb-4a82-ca1c-68318030a0ba"
   },
   "outputs": [
    {
     "data": {
      "text/plain": [
       "0"
      ]
     },
     "execution_count": 41,
     "metadata": {},
     "output_type": "execute_result"
    }
   ],
   "source": [
    "df.duplicated().sum()"
   ]
  },
  {
   "cell_type": "markdown",
   "metadata": {
    "id": "-P3SgRaRGuzU"
   },
   "source": [
    "Here you can see the Numbers of the duplicate rows which are present in the dataset."
   ]
  },
  {
   "cell_type": "markdown",
   "metadata": {
    "id": "JnffTZLIF6Wd"
   },
   "source": [
    "## <a id='toc1_5_3_'></a>[Dropping the Duplicated Values.](#toc0_)\n"
   ]
  },
  {
   "cell_type": "markdown",
   "metadata": {
    "id": "egl0rWlZGSxp"
   },
   "source": [
    "Here for dropping the Duplicate values by using the `drop_duplicated()` method.<br>\n",
    "\n",
    "You can read more about it on <a href=\"https://pandas.pydata.org/docs/reference/api/pandas.DataFrame.drop_duplicates.html\">This link.</a>"
   ]
  },
  {
   "cell_type": "code",
   "execution_count": 42,
   "metadata": {
    "id": "-rCFBfBCGmPS"
   },
   "outputs": [],
   "source": [
    "df.drop_duplicates(inplace=True) #dropping the duplicated values"
   ]
  },
  {
   "cell_type": "markdown",
   "metadata": {
    "id": "h4XqFMyOHdjv"
   },
   "source": [
    "## <a id='toc1_5_4_'></a>[The number of unique values for each column.](#toc0_)\n",
    "Here we are checking the null values for each columns <br>\n",
    "\n",
    "Here we are using `nunique()` method to get the numbers od unique values in columns <br>\n",
    "\n",
    "You can read more about `nunique()` on <a href = \"https://pandas.pydata.org/docs/reference/api/pandas.DataFrame.nunique.html\">this link  </a>"
   ]
  },
  {
   "cell_type": "code",
   "execution_count": 43,
   "metadata": {
    "colab": {
     "base_uri": "https://localhost:8080/"
    },
    "executionInfo": {
     "elapsed": 25,
     "status": "ok",
     "timestamp": 1673986361693,
     "user": {
      "displayName": "sasidhar Sai",
      "userId": "03910604699370000651"
     },
     "user_tz": -330
    },
    "id": "g4cROYlCHw61",
    "outputId": "d2c73c22-0d64-4e86-b35a-25b6709d82ea"
   },
   "outputs": [
    {
     "name": "stdout",
     "output_type": "stream",
     "text": [
      "rcc 114\n",
      "wcc 70\n",
      "hc 105\n",
      "hg 55\n",
      "ferr 111\n",
      "bmi 180\n",
      "ssf 176\n",
      "pcBfat 180\n",
      "lbm 135\n",
      "ht 147\n",
      "wt 161\n",
      "sex 2\n",
      "sport 10\n"
     ]
    }
   ],
   "source": [
    "for i in df.columns:\n",
    "    print(i,df[i].nunique())"
   ]
  },
  {
   "cell_type": "markdown",
   "metadata": {
    "id": "Z6LGr5OzKuop"
   },
   "source": [
    "Here, we are going to see the unique values of sport column"
   ]
  },
  {
   "cell_type": "code",
   "execution_count": 44,
   "metadata": {
    "colab": {
     "base_uri": "https://localhost:8080/"
    },
    "executionInfo": {
     "elapsed": 21,
     "status": "ok",
     "timestamp": 1673986361693,
     "user": {
      "displayName": "sasidhar Sai",
      "userId": "03910604699370000651"
     },
     "user_tz": -330
    },
    "id": "ZxfDRCupKo8D",
    "outputId": "7e691a5a-f7ab-4300-e89a-7cf7d47ccc0b"
   },
   "outputs": [
    {
     "data": {
      "text/plain": [
       "array(['B_Ball', 'Row', 'Netball', 'Swim', 'Field', 'T_400m', 'T_Sprnt',\n",
       "       'Tennis', 'Gym', 'W_Polo'], dtype=object)"
      ]
     },
     "execution_count": 44,
     "metadata": {},
     "output_type": "execute_result"
    }
   ],
   "source": [
    "df['sport'].unique()"
   ]
  },
  {
   "cell_type": "markdown",
   "metadata": {
    "id": "OmJE4oj0kKxW"
   },
   "source": [
    "### <a id='toc1_5_4_'></a>[Finding the Correlations between the columns](#toc0_)\n",
    "In statistics, correlation or dependence is used to describe any statistical relationship, whether causal or not, between two random variables or bivariate data.<br>\n",
    "It is used to know that like which columns are related with each other. <br>\n",
    "\n",
    "You can read more about it on <a href=\"https://en.wikipedia.org/wiki/Correlation\">This link</a>."
   ]
  },
  {
   "cell_type": "code",
   "execution_count": 45,
   "metadata": {
    "colab": {
     "base_uri": "https://localhost:8080/",
     "height": 394
    },
    "executionInfo": {
     "elapsed": 755,
     "status": "ok",
     "timestamp": 1673986362431,
     "user": {
      "displayName": "sasidhar Sai",
      "userId": "03910604699370000651"
     },
     "user_tz": -330
    },
    "id": "DyZxP0l0kR6s",
    "outputId": "7796f747-b837-4292-8634-79497dcbfece",
    "scrolled": true
   },
   "outputs": [
    {
     "data": {
      "text/html": [
       "<div>\n",
       "<style scoped>\n",
       "    .dataframe tbody tr th:only-of-type {\n",
       "        vertical-align: middle;\n",
       "    }\n",
       "\n",
       "    .dataframe tbody tr th {\n",
       "        vertical-align: top;\n",
       "    }\n",
       "\n",
       "    .dataframe thead th {\n",
       "        text-align: right;\n",
       "    }\n",
       "</style>\n",
       "<table border=\"1\" class=\"dataframe\">\n",
       "  <thead>\n",
       "    <tr style=\"text-align: right;\">\n",
       "      <th></th>\n",
       "      <th>rcc</th>\n",
       "      <th>wcc</th>\n",
       "      <th>hc</th>\n",
       "      <th>hg</th>\n",
       "      <th>ferr</th>\n",
       "      <th>bmi</th>\n",
       "      <th>ssf</th>\n",
       "      <th>pcBfat</th>\n",
       "      <th>lbm</th>\n",
       "      <th>ht</th>\n",
       "      <th>wt</th>\n",
       "    </tr>\n",
       "  </thead>\n",
       "  <tbody>\n",
       "    <tr>\n",
       "      <th>rcc</th>\n",
       "      <td>1.000000</td>\n",
       "      <td>0.147064</td>\n",
       "      <td>0.924964</td>\n",
       "      <td>0.888800</td>\n",
       "      <td>0.250865</td>\n",
       "      <td>0.299471</td>\n",
       "      <td>-0.403004</td>\n",
       "      <td>-0.493512</td>\n",
       "      <td>0.550975</td>\n",
       "      <td>0.358854</td>\n",
       "      <td>0.403763</td>\n",
       "    </tr>\n",
       "    <tr>\n",
       "      <th>wcc</th>\n",
       "      <td>0.147064</td>\n",
       "      <td>1.000000</td>\n",
       "      <td>0.153333</td>\n",
       "      <td>0.134720</td>\n",
       "      <td>0.132073</td>\n",
       "      <td>0.176968</td>\n",
       "      <td>0.136999</td>\n",
       "      <td>0.107960</td>\n",
       "      <td>0.102663</td>\n",
       "      <td>0.076811</td>\n",
       "      <td>0.155662</td>\n",
       "    </tr>\n",
       "    <tr>\n",
       "      <th>hc</th>\n",
       "      <td>0.924964</td>\n",
       "      <td>0.153333</td>\n",
       "      <td>1.000000</td>\n",
       "      <td>0.950757</td>\n",
       "      <td>0.258240</td>\n",
       "      <td>0.320527</td>\n",
       "      <td>-0.449135</td>\n",
       "      <td>-0.532449</td>\n",
       "      <td>0.583375</td>\n",
       "      <td>0.371192</td>\n",
       "      <td>0.423711</td>\n",
       "    </tr>\n",
       "    <tr>\n",
       "      <th>hg</th>\n",
       "      <td>0.888800</td>\n",
       "      <td>0.134720</td>\n",
       "      <td>0.950757</td>\n",
       "      <td>1.000000</td>\n",
       "      <td>0.308391</td>\n",
       "      <td>0.382524</td>\n",
       "      <td>-0.435429</td>\n",
       "      <td>-0.531522</td>\n",
       "      <td>0.610986</td>\n",
       "      <td>0.352322</td>\n",
       "      <td>0.455263</td>\n",
       "    </tr>\n",
       "    <tr>\n",
       "      <th>ferr</th>\n",
       "      <td>0.250865</td>\n",
       "      <td>0.132073</td>\n",
       "      <td>0.258240</td>\n",
       "      <td>0.308391</td>\n",
       "      <td>1.000000</td>\n",
       "      <td>0.302556</td>\n",
       "      <td>-0.108243</td>\n",
       "      <td>-0.183386</td>\n",
       "      <td>0.317581</td>\n",
       "      <td>0.123255</td>\n",
       "      <td>0.273702</td>\n",
       "    </tr>\n",
       "    <tr>\n",
       "      <th>bmi</th>\n",
       "      <td>0.299471</td>\n",
       "      <td>0.176968</td>\n",
       "      <td>0.320527</td>\n",
       "      <td>0.382524</td>\n",
       "      <td>0.302556</td>\n",
       "      <td>1.000000</td>\n",
       "      <td>0.321116</td>\n",
       "      <td>0.187558</td>\n",
       "      <td>0.713858</td>\n",
       "      <td>0.337097</td>\n",
       "      <td>0.845934</td>\n",
       "    </tr>\n",
       "    <tr>\n",
       "      <th>ssf</th>\n",
       "      <td>-0.403004</td>\n",
       "      <td>0.136999</td>\n",
       "      <td>-0.449135</td>\n",
       "      <td>-0.435429</td>\n",
       "      <td>-0.108243</td>\n",
       "      <td>0.321116</td>\n",
       "      <td>1.000000</td>\n",
       "      <td>0.963017</td>\n",
       "      <td>-0.207749</td>\n",
       "      <td>-0.071253</td>\n",
       "      <td>0.154196</td>\n",
       "    </tr>\n",
       "    <tr>\n",
       "      <th>pcBfat</th>\n",
       "      <td>-0.493512</td>\n",
       "      <td>0.107960</td>\n",
       "      <td>-0.532449</td>\n",
       "      <td>-0.531522</td>\n",
       "      <td>-0.183386</td>\n",
       "      <td>0.187558</td>\n",
       "      <td>0.963017</td>\n",
       "      <td>1.000000</td>\n",
       "      <td>-0.361850</td>\n",
       "      <td>-0.188022</td>\n",
       "      <td>-0.000193</td>\n",
       "    </tr>\n",
       "    <tr>\n",
       "      <th>lbm</th>\n",
       "      <td>0.550975</td>\n",
       "      <td>0.102663</td>\n",
       "      <td>0.583375</td>\n",
       "      <td>0.610986</td>\n",
       "      <td>0.317581</td>\n",
       "      <td>0.713858</td>\n",
       "      <td>-0.207749</td>\n",
       "      <td>-0.361850</td>\n",
       "      <td>1.000000</td>\n",
       "      <td>0.802119</td>\n",
       "      <td>0.930913</td>\n",
       "    </tr>\n",
       "    <tr>\n",
       "      <th>ht</th>\n",
       "      <td>0.358854</td>\n",
       "      <td>0.076811</td>\n",
       "      <td>0.371192</td>\n",
       "      <td>0.352322</td>\n",
       "      <td>0.123255</td>\n",
       "      <td>0.337097</td>\n",
       "      <td>-0.071253</td>\n",
       "      <td>-0.188022</td>\n",
       "      <td>0.802119</td>\n",
       "      <td>1.000000</td>\n",
       "      <td>0.780932</td>\n",
       "    </tr>\n",
       "    <tr>\n",
       "      <th>wt</th>\n",
       "      <td>0.403763</td>\n",
       "      <td>0.155662</td>\n",
       "      <td>0.423711</td>\n",
       "      <td>0.455263</td>\n",
       "      <td>0.273702</td>\n",
       "      <td>0.845934</td>\n",
       "      <td>0.154196</td>\n",
       "      <td>-0.000193</td>\n",
       "      <td>0.930913</td>\n",
       "      <td>0.780932</td>\n",
       "      <td>1.000000</td>\n",
       "    </tr>\n",
       "  </tbody>\n",
       "</table>\n",
       "</div>"
      ],
      "text/plain": [
       "             rcc       wcc        hc        hg      ferr       bmi       ssf  \\\n",
       "rcc     1.000000  0.147064  0.924964  0.888800  0.250865  0.299471 -0.403004   \n",
       "wcc     0.147064  1.000000  0.153333  0.134720  0.132073  0.176968  0.136999   \n",
       "hc      0.924964  0.153333  1.000000  0.950757  0.258240  0.320527 -0.449135   \n",
       "hg      0.888800  0.134720  0.950757  1.000000  0.308391  0.382524 -0.435429   \n",
       "ferr    0.250865  0.132073  0.258240  0.308391  1.000000  0.302556 -0.108243   \n",
       "bmi     0.299471  0.176968  0.320527  0.382524  0.302556  1.000000  0.321116   \n",
       "ssf    -0.403004  0.136999 -0.449135 -0.435429 -0.108243  0.321116  1.000000   \n",
       "pcBfat -0.493512  0.107960 -0.532449 -0.531522 -0.183386  0.187558  0.963017   \n",
       "lbm     0.550975  0.102663  0.583375  0.610986  0.317581  0.713858 -0.207749   \n",
       "ht      0.358854  0.076811  0.371192  0.352322  0.123255  0.337097 -0.071253   \n",
       "wt      0.403763  0.155662  0.423711  0.455263  0.273702  0.845934  0.154196   \n",
       "\n",
       "          pcBfat       lbm        ht        wt  \n",
       "rcc    -0.493512  0.550975  0.358854  0.403763  \n",
       "wcc     0.107960  0.102663  0.076811  0.155662  \n",
       "hc     -0.532449  0.583375  0.371192  0.423711  \n",
       "hg     -0.531522  0.610986  0.352322  0.455263  \n",
       "ferr   -0.183386  0.317581  0.123255  0.273702  \n",
       "bmi     0.187558  0.713858  0.337097  0.845934  \n",
       "ssf     0.963017 -0.207749 -0.071253  0.154196  \n",
       "pcBfat  1.000000 -0.361850 -0.188022 -0.000193  \n",
       "lbm    -0.361850  1.000000  0.802119  0.930913  \n",
       "ht     -0.188022  0.802119  1.000000  0.780932  \n",
       "wt     -0.000193  0.930913  0.780932  1.000000  "
      ]
     },
     "execution_count": 45,
     "metadata": {},
     "output_type": "execute_result"
    }
   ],
   "source": [
    "df.corr(numeric_only=True)"
   ]
  },
  {
   "cell_type": "markdown",
   "metadata": {
    "id": "QdbRkl-TBQ_e"
   },
   "source": [
    "##Measures of Skewness and Kurtosis\n",
    "\n",
    "**Skewness** is a measure of symmetry, or more precisely, the lack of symmetry. A distribution, or data set, is symmetric if it looks the same to the left and right of the center point.\n",
    "\n",
    "**Distribution on the basis of skewness value:**\n",
    "\n",
    "* Skewness = 0: Then normally distributed.\n",
    "* Skewness > 0: Then more weight in the left tail of the distribution.\n",
    "* Skewness < 0: Then more weight in the right tail of the distribution.\n",
    "\n",
    "**Kurtosis** is a metric that indicates how heavy-tailed or light-tailed the data are in comparison to a normal distribution. In other words, data sets with a high kurtosis tend to have large outliers or heavy tails. Data sets with low kurtosis usually less outliers and have light tails. The worst-case scenario would be a uniform distribution.\n",
    "\n",
    "**Distribution on the basis of Kurtosis value:**\n",
    "\n",
    "* kurtosis for normal distribution is equal to 3.\n",
    "* For a distribution having kurtosis < 3: It is called playkurtic.\n",
    "* For a distribution having kurtosis > 3, It is called leptokurtic and it signifies that it tries to produce more outliers rather than the normal distribution."
   ]
  },
  {
   "cell_type": "markdown",
   "metadata": {
    "id": "ouvXhhen2slo"
   },
   "source": [
    "## <a id='toc1_5_'></a>[5. Normal Distrbution](#toc0_)"
   ]
  },
  {
   "cell_type": "markdown",
   "metadata": {
    "id": "KpPi3WS8Edd4"
   },
   "source": [
    "The normal distribution is a symmetric probability focused on the mean. This \n",
    "means that data close to the mean occur more frequently than data far from it. The normal distribution is also referred to as the Gaussian distribution. The curve for this distribution looks like a bell.\n",
    "<br>\n",
    "* The mean, median and mode are exactly the same.\n",
    "* The distribution is symmetric about the mean—half the values fall below the mean and half above the mean.\n",
    "*The distribution can be described by two values: the mean and the standard deviation.\n",
    "\n",
    "\n",
    "You can read more about it in <a href=\"https://en.wikipedia.org/wiki/Normal_distribution\">This link</a>.<br>\n",
    "\n",
    "We are importing this stats library because it contains all of the statistics functions, which are located in the sub-package `scipy.stats()`"
   ]
  },
  {
   "cell_type": "code",
   "execution_count": 46,
   "metadata": {
    "colab": {
     "base_uri": "https://localhost:8080/",
     "height": 571
    },
    "executionInfo": {
     "elapsed": 1556,
     "status": "ok",
     "timestamp": 1673988996602,
     "user": {
      "displayName": "sasidhar Sai",
      "userId": "03910604699370000651"
     },
     "user_tz": -330
    },
    "id": "MLwTrsNK3JUC",
    "outputId": "491e3a5d-bf54-4dab-e414-0b409db4b212"
   },
   "outputs": [
    {
     "name": "stderr",
     "output_type": "stream",
     "text": [
      "C:\\Users\\MZ\\AppData\\Local\\Temp\\ipykernel_1920\\2489130077.py:4: UserWarning: \n",
      "\n",
      "`distplot` is a deprecated function and will be removed in seaborn v0.14.0.\n",
      "\n",
      "Please adapt your code to use either `displot` (a figure-level function with\n",
      "similar flexibility) or `histplot` (an axes-level function for histograms).\n",
      "\n",
      "For a guide to updating your code to use the new functions, please see\n",
      "https://gist.github.com/mwaskom/de44147ed2974457ad6372750bbe5751\n",
      "\n",
      "  ax = sns.distplot(df['bmi'],\n"
     ]
    },
    {
     "data": {
      "image/png": "[encoded data removed]",
      "text/plain": [
       "<Figure size 1000x800 with 1 Axes>"
      ]
     },
     "metadata": {},
     "output_type": "display_data"
    }
   ],
   "source": [
    "import scipy.stats as stats\n",
    "# plotting a histogram\n",
    "plt.figure(figsize=(10,8))\n",
    "ax = sns.distplot(df['bmi'],\n",
    "                  bins=50,\n",
    "                  kde=True,\n",
    "                  color='royalblue',\n",
    "                  hist_kws={\"linewidth\": 15,'alpha':1})\n",
    "plt.xlabel('Body Mass Index Count', fontsize=12)\n",
    "plt.ylabel('Frequency', fontsize=12)\n",
    "plt.title(\"Normal Distribution\")\n",
    "plt.show()"
   ]
  },
  {
   "cell_type": "markdown",
   "metadata": {
    "id": "SW4s7qxVtPQ4"
   },
   "source": [
    "The area under the normal distribution curve represents probability, and the\n",
    "total area under the curve sums to one.\n",
    "\n",
    "\n",
    "From this graph,\n",
    "* We can say the average body mass index for the athletes is 24.\n",
    "* We can also see that the body mass index is highly variable, ranging from 16 to 30 in most of the athletes.\n",
    "* There is also a small percentage of outliers after the 30, which is negligible because the frequency of the value is very low compared to others."
   ]
  },
  {
   "cell_type": "code",
   "execution_count": 47,
   "metadata": {
    "colab": {
     "base_uri": "https://localhost:8080/"
    },
    "executionInfo": {
     "elapsed": 31,
     "status": "ok",
     "timestamp": 1673986362435,
     "user": {
      "displayName": "sasidhar Sai",
      "userId": "03910604699370000651"
     },
     "user_tz": -330
    },
    "id": "1kvROLJCCvaU",
    "outputId": "b6ba20e7-ed93-4697-e6f3-f13692435d94"
   },
   "outputs": [
    {
     "name": "stdout",
     "output_type": "stream",
     "text": [
      "Skewness of the graph: \n",
      "0.9465155132505845\n"
     ]
    }
   ],
   "source": [
    "# Calculate Skewness of the graphl\n",
    "from scipy.stats import skew\n",
    "print(\"Skewness of the graph: \")\n",
    "print(skew(df['bmi'], axis=0, bias=True))"
   ]
  },
  {
   "cell_type": "markdown",
   "metadata": {
    "id": "k6_ZSLgeIXH9"
   },
   "source": [
    "As we all know, the skewness of a normal distribution must be zero. but here the skewness is slightly more than zero, so it is left-tailed."
   ]
  },
  {
   "cell_type": "code",
   "execution_count": 48,
   "metadata": {
    "colab": {
     "base_uri": "https://localhost:8080/"
    },
    "executionInfo": {
     "elapsed": 27,
     "status": "ok",
     "timestamp": 1673986362436,
     "user": {
      "displayName": "sasidhar Sai",
      "userId": "03910604699370000651"
     },
     "user_tz": -330
    },
    "id": "p-HHnXWbD_fZ",
    "outputId": "00db5a91-821e-40bc-a965-8e85dae7b583"
   },
   "outputs": [
    {
     "name": "stdout",
     "output_type": "stream",
     "text": [
      "Kurtosis of the graph: \n",
      "2.1834749739437314\n"
     ]
    }
   ],
   "source": [
    "# Calculate Kurtosis of the graph\n",
    "from scipy.stats import kurtosis\n",
    "print(\"Kurtosis of the graph: \")\n",
    "print(kurtosis(df['bmi'], axis=0, bias=True))"
   ]
  },
  {
   "cell_type": "markdown",
   "metadata": {
    "id": "RsGjIwoqJZFT"
   },
   "source": [
    "As we all know, the kurtosis of a normal distribution must be 3. but here the kurtosis is less than 3. so it is light-tailed and has fewer outliers.\n",
    "\n"
   ]
  },
  {
   "cell_type": "code",
   "execution_count": 49,
   "metadata": {
    "colab": {
     "base_uri": "https://localhost:8080/",
     "height": 571
    },
    "executionInfo": {
     "elapsed": 884,
     "status": "ok",
     "timestamp": 1673988985606,
     "user": {
      "displayName": "sasidhar Sai",
      "userId": "03910604699370000651"
     },
     "user_tz": -330
    },
    "id": "IYIcG-rxrti4",
    "outputId": "4d384b65-9fdd-44a7-d574-cc23915a2134"
   },
   "outputs": [
    {
     "name": "stderr",
     "output_type": "stream",
     "text": [
      "C:\\Users\\MZ\\AppData\\Local\\Temp\\ipykernel_1920\\1244420635.py:2: UserWarning: \n",
      "\n",
      "`distplot` is a deprecated function and will be removed in seaborn v0.14.0.\n",
      "\n",
      "Please adapt your code to use either `displot` (a figure-level function with\n",
      "similar flexibility) or `histplot` (an axes-level function for histograms).\n",
      "\n",
      "For a guide to updating your code to use the new functions, please see\n",
      "https://gist.github.com/mwaskom/de44147ed2974457ad6372750bbe5751\n",
      "\n",
      "  ax = sns.distplot(df['ssf'],\n"
     ]
    },
    {
     "data": {
      "image/png": "[encoded data removed]",
      "text/plain": [
       "<Figure size 1000x800 with 1 Axes>"
      ]
     },
     "metadata": {},
     "output_type": "display_data"
    }
   ],
   "source": [
    "plt.figure(figsize=(10,8))\n",
    "ax = sns.distplot(df['ssf'],\n",
    "                  bins=80,\n",
    "                  kde=True,\n",
    "                  color='royalblue',\n",
    "                  hist_kws={\"linewidth\": 10,'alpha':1})\n",
    "plt.xlabel('sum of skin folds', fontsize=12)\n",
    "plt.ylabel('Frequency', fontsize=12)\n",
    "plt.title(\"Normal Distribution\")\n",
    "plt.show()"
   ]
  },
  {
   "cell_type": "markdown",
   "metadata": {
    "id": "YjaRLuiouHET"
   },
   "source": [
    "According to this graph,\n",
    "* The average sum of skin folds is around 50.\n",
    "* Here we can see that the sum of skin folds is widely distributed between 0 and 200.\n",
    "* The majority of the athletes are in the range of 25 to 120 sum of skin.\n",
    "* We can also see that the outliers are present in the data after 150, which can be neglected due to their lower frequency than others.\n"
   ]
  },
  {
   "cell_type": "code",
   "execution_count": 50,
   "metadata": {
    "colab": {
     "base_uri": "https://localhost:8080/"
    },
    "executionInfo": {
     "elapsed": 23,
     "status": "ok",
     "timestamp": 1673986362974,
     "user": {
      "displayName": "sasidhar Sai",
      "userId": "03910604699370000651"
     },
     "user_tz": -330
    },
    "id": "FncYHpEWH_fG",
    "outputId": "6f0a0a57-29eb-4fd4-87f9-e280d9f75d64"
   },
   "outputs": [
    {
     "name": "stdout",
     "output_type": "stream",
     "text": [
      "Skewness of the graph: \n",
      "1.174668451511767\n"
     ]
    }
   ],
   "source": [
    "# Calculate Skewness of the graph\n",
    "print(\"Skewness of the graph: \")\n",
    "print(skew(df['ssf'], axis=0, bias=True))"
   ]
  },
  {
   "cell_type": "markdown",
   "metadata": {
    "id": "msrq_IbWKIug"
   },
   "source": [
    "Skewness essentially gauges how big the two tails are in comparison. As we all know, the skewness of a normal distribution must be zero. but here the skewness is more than zero, so it is left-tailed."
   ]
  },
  {
   "cell_type": "code",
   "execution_count": 51,
   "metadata": {
    "colab": {
     "base_uri": "https://localhost:8080/"
    },
    "executionInfo": {
     "elapsed": 19,
     "status": "ok",
     "timestamp": 1673986362975,
     "user": {
      "displayName": "sasidhar Sai",
      "userId": "03910604699370000651"
     },
     "user_tz": -330
    },
    "id": "7TLo0s_SIFoq",
    "outputId": "ff3a91b5-2f4e-4aaf-82ab-a13fb27e588e"
   },
   "outputs": [
    {
     "name": "stdout",
     "output_type": "stream",
     "text": [
      "Kurtosis of the graph: \n",
      "1.3651352231700065\n"
     ]
    }
   ],
   "source": [
    "# Calculate Kurtosis of the graph\n",
    "print(\"Kurtosis of the graph: \")\n",
    "print(kurtosis(df['ssf'], axis=0, bias=True))"
   ]
  },
  {
   "cell_type": "markdown",
   "metadata": {
    "id": "EMMshE1mKQsD"
   },
   "source": [
    "The two tails' combined sizes are measured via kurtosis. The probability in the tails is measured. As we all know, the kurtosis of a standard normal distribution is 3 but here the value of kurtosis is less than 3 which means, the graph is light-tailed and has fewer outliers."
   ]
  },
  {
   "cell_type": "markdown",
   "metadata": {
    "id": "Dnnd7XScBYm3"
   },
   "source": [
    "## <a id='toc1_6_'></a>[6. Uniform Distribution](#toc0_)"
   ]
  },
  {
   "cell_type": "markdown",
   "metadata": {
    "id": "q32ZYmK0GhbN"
   },
   "source": [
    "The uniform distribution is a symmetric probability in which the chances of all possible outcomes are the same. All of the values in the distribution have the same chance of happening, so they are all spread out in the same way. The \"rectangular distribution\" is another name for this type of distribution.\n",
    "\n",
    "You can read more about it in <a href=\"https://en.wikipedia.org/wiki/Continuous_uniform_distribution\">This link</a>.<br>"
   ]
  },
  {
   "cell_type": "code",
   "execution_count": 52,
   "metadata": {
    "colab": {
     "base_uri": "https://localhost:8080/",
     "height": 513
    },
    "executionInfo": {
     "elapsed": 1248,
     "status": "ok",
     "timestamp": 1673989119233,
     "user": {
      "displayName": "sasidhar Sai",
      "userId": "03910604699370000651"
     },
     "user_tz": -330
    },
    "id": "E4t6djzO9lAf",
    "outputId": "bffcc814-e5a0-4e55-c521-cb37a92ca598"
   },
   "outputs": [
    {
     "data": {
      "image/png": "[encoded data removed]",
      "text/plain": [
       "<Figure size 1000x800 with 1 Axes>"
      ]
     },
     "metadata": {},
     "output_type": "display_data"
    }
   ],
   "source": [
    "# uniform library is used to maintain boundaries of the data\n",
    "from scipy.stats import uniform\n",
    "\n",
    "x=df['pcBfat'] \n",
    "plt.figure(figsize=(10,8))\n",
    "plt.hist(x,density = True,color='peru')\n",
    "plt.axhline(y=uniform.pdf(x[0]),color='b')\n",
    "plt.title('Uniform distribution')\n",
    "plt.ylabel('Probability Density Function')\n",
    "plt.xlabel('Percent Body Fat')\n",
    "plt.show()"
   ]
  },
  {
   "cell_type": "markdown",
   "metadata": {
    "id": "4g-92LvgwlMB"
   },
   "source": [
    "This graph reveals that the density of the percentage of body fat is very low in the majority of the players.\n",
    "\n",
    "* We can see a gradual decrease in the body's fat density.\n",
    "* Athletes have a higher probability density of 5% to 12% of their body.\n",
    "* We can also see that the density of 20% body fat is higher than that of 10% and 15% body fat.\n"
   ]
  },
  {
   "cell_type": "markdown",
   "metadata": {
    "id": "2kk45fxO5rit"
   },
   "source": [
    "## <a id='toc1_7_'></a>[7. Binomial Distribution](#toc0_)"
   ]
  },
  {
   "attachments": {
    "image.png": {
     "image/png": "[encoded data removed]"
    }
   },
   "cell_type": "markdown",
   "metadata": {
    "id": "RYJzzpCBy1Hc"
   },
   "source": [
    "* Binomial distribution is one of the most popular distributions in statistics, along with normal distribution. Binomial distribution is a discrete probability distribution of a number of successes (X) in a sequence of independent experiments (n). Each experiment has two possible outcomes: success and failure. Success outcome has a probability p, and failure has probability (1−p). \n",
    "* #### Example:\n",
    "* What is the probability of finding 1 or more men in the sample?\n",
    "* First you must calculate the probability of men and this parameter (p) then assume number of (x) from 0 to 5 and assume your n = 10 \n",
    "![image.png](attachment:image.png)"
   ]
  },
  {
   "cell_type": "code",
   "execution_count": 53,
   "metadata": {},
   "outputs": [],
   "source": [
    "data_titanic = pd.read_csv('titanic.csv')"
   ]
  },
  {
   "cell_type": "code",
   "execution_count": 54,
   "metadata": {
    "colab": {
     "base_uri": "https://localhost:8080/"
    },
    "executionInfo": {
     "elapsed": 5,
     "status": "ok",
     "timestamp": 1673986684606,
     "user": {
      "displayName": "sasidhar Sai",
      "userId": "03910604699370000651"
     },
     "user_tz": -330
    },
    "id": "fCs3VcmaX3Qj",
    "outputId": "f91dcc0d-ad94-435a-ff38-b40cd2156f72"
   },
   "outputs": [
    {
     "data": {
      "text/plain": [
       "Sex\n",
       "female    0.681287\n",
       "male      0.318713\n",
       "Name: proportion, dtype: float64"
      ]
     },
     "execution_count": 54,
     "metadata": {},
     "output_type": "execute_result"
    }
   ],
   "source": [
    "data_men = data_titanic[data_titanic['Survived'] == 1]\n",
    "data_men['Sex'].value_counts(normalize=True)\n",
    "# The probalbbility of female in data is 0.681287 and male is 0.318713"
   ]
  },
  {
   "cell_type": "code",
   "execution_count": 55,
   "metadata": {},
   "outputs": [
    {
     "data": {
      "text/plain": [
       "array([0.02176926, 0.10150478, 0.21298144, 0.26482149, 0.21608968,\n",
       "       0.12090883])"
      ]
     },
     "execution_count": 55,
     "metadata": {},
     "output_type": "execute_result"
    }
   ],
   "source": [
    "# Parameters of equation\n",
    "p = 0.318\n",
    "n = 10\n",
    "x = np.arange(0, 6)\n",
    "# Probability mass function (a function that gives the probability that a discrete random variable is exactly equal to some value)\n",
    "pmf_men = stats.binom.pmf(k = x, n = n, p = p)\n",
    "pmf_men"
   ]
  },
  {
   "cell_type": "code",
   "execution_count": 56,
   "metadata": {
    "id": "LtFpCE8uXCyr"
   },
   "outputs": [
    {
     "data": {
      "image/png": "[encoded data removed]",
      "text/plain": [
       "<Figure size 600x600 with 1 Axes>"
      ]
     },
     "metadata": {},
     "output_type": "display_data"
    }
   ],
   "source": [
    "\n",
    "# plot the result\n",
    "# plt.bar(x, pmf_men)\n",
    "fig, ax = plt.subplots(figsize=(6,6))\n",
    "g = sns.barplot(x=x, y=pmf_men)\n",
    "for i, v in enumerate(pmf_men):\n",
    "    ax.text(i, v + .002, round(v, 2), fontweight='bold')\n",
    "g.set_title('The probability of finding men from 0 to 5')\n",
    "plt.show()\n",
    "# The probability of finding men from 0 to 5 "
   ]
  },
  {
   "cell_type": "markdown",
   "metadata": {
    "id": "7PwqiwXg9Kte"
   },
   "source": [
    "## <a id='toc1_8_'></a>[8. Bernoulli Distribution](#toc0_)"
   ]
  },
  {
   "cell_type": "markdown",
   "metadata": {
    "id": "kTVW8iP2DYOA"
   },
   "source": [
    "* This distribution is related to Binary classification . (i.e What is the probability that this person is sick or not? Or what is the probability that this customer will buy the product or not and so on) \n",
    "* #### Example:\n",
    "* In titanic dataset we want to know What is the probability that a person on the ship will survive?"
   ]
  },
  {
   "cell_type": "code",
   "execution_count": 57,
   "metadata": {
    "colab": {
     "base_uri": "https://localhost:8080/",
     "height": 519
    },
    "executionInfo": {
     "elapsed": 501,
     "status": "ok",
     "timestamp": 1673992689897,
     "user": {
      "displayName": "sasidhar Sai",
      "userId": "03910604699370000651"
     },
     "user_tz": -330
    },
    "id": "9yqDFK948gwI",
    "outputId": "cfbd7f39-9ac0-4765-c3d2-fc49ae16d7b0"
   },
   "outputs": [
    {
     "data": {
      "image/png": "[encoded data removed]",
      "text/plain": [
       "<Figure size 640x480 with 1 Axes>"
      ]
     },
     "metadata": {},
     "output_type": "display_data"
    }
   ],
   "source": [
    "data_survive = data_titanic['Survived'].value_counts(normalize=True)\n",
    "fig, ax = plt.subplots()\n",
    "sns.barplot(x=data_survive.index, y=data_survive.values)\n",
    "for i, v in enumerate(data_survive):\n",
    "    ax.text(i, v+0.002, round(v, 2), fontweight='bold')\n",
    "plt.show() "
   ]
  },
  {
   "cell_type": "markdown",
   "metadata": {
    "id": "n7guabDGF9Gp"
   },
   "source": [
    "0 refer to Not survive\n",
    "\n",
    "1 refer to survive\n",
    "\n",
    "The probability that a person will not survive is higher than the probability that he will survive"
   ]
  },
  {
   "cell_type": "markdown",
   "metadata": {
    "id": "2pN39m2i6NtN"
   },
   "source": [
    "## <a id='toc1_9_'></a>[9. Poisson Distribution](#toc0_)"
   ]
  },
  {
   "attachments": {
    "image.png": {
     "image/png": "[encoded data removed]"
    }
   },
   "cell_type": "markdown",
   "metadata": {
    "id": "YTTCjIiL3GES"
   },
   "source": [
    "* It is a probability disceret distribution that is used to show how many times an event is likely to occur over a specified period.\n",
    "![image.png](attachment:image.png)\n",
    "* #### Example :\n",
    "* A store sells 3 apples per day on average. What is the probability that they will sell 5 apples on a given day? in this case we will use the Poisson distribution \n"
   ]
  },
  {
   "cell_type": "code",
   "execution_count": 58,
   "metadata": {
    "id": "hSjhqB1q2ZAe"
   },
   "outputs": [
    {
     "name": "stdout",
     "output_type": "stream",
     "text": [
      "[0.04978707 0.14936121 0.22404181 0.22404181 0.16803136 0.10081881]\n"
     ]
    },
    {
     "data": {
      "image/png": "[encoded data removed]",
      "text/plain": [
       "<Figure size 640x480 with 1 Axes>"
      ]
     },
     "metadata": {},
     "output_type": "display_data"
    }
   ],
   "source": [
    "# Example : A store sells 3 apples per day on average. What is the probability that they will sell 5 apples on a given day?\n",
    "mu = 3 # no. of apples store sells\n",
    "x = np.arange(0, 6) # no. of apples to sell\n",
    "pmf_poisson = stats.poisson.pmf(x, mu = mu)\n",
    "print(pmf_poisson)\n",
    "plt.plot(x, pmf_poisson, 'o', ms=12)\n",
    "plt.vlines(x, 0 , pmf_poisson , colors='Black' , lw = 3)\n",
    "# label the axis\n",
    "plt.ylabel('Poisson PMF')\n",
    "plt.title('Poisson Distribution')\n",
    "plt.show()"
   ]
  },
  {
   "cell_type": "markdown",
   "metadata": {
    "id": "DXT7I7FK8X53"
   },
   "source": [
    "## <a id='toc1_10_'></a>[10. Exponential Distribution](#toc0_)"
   ]
  },
  {
   "cell_type": "markdown",
   "metadata": {
    "id": "B4JHVCp0_qcJ"
   },
   "source": [
    "* The probability of time between Poisson events.      \n",
    "      F(x; λ) = 1 – e-λx       \n",
    "      where:     \n",
    "         λ: the rate parameter (calculated as λ = 1/μ)     \n",
    "         e: A constant roughly equal to 2.718      \n",
    "* Example:     \n",
    "* Suppose the mean number of minutes between eruptions for a certain geyser is 40 minutes. What is the probability that we’ll have to wait less than 50 minutes for an eruption?"
   ]
  },
  {
   "cell_type": "code",
   "execution_count": 59,
   "metadata": {},
   "outputs": [
    {
     "name": "stdout",
     "output_type": "stream",
     "text": [
      "The probability that we’ll have to wait less than 50 minutes for the next eruption is \n",
      "[0.         0.02469009 0.04877058 0.07225651 0.09516258 0.1175031\n",
      " 0.13929202 0.16054298 0.18126925 0.20148378 0.22119922 0.24042788\n",
      " 0.25918178 0.27747265 0.29531191 0.31271072 0.32967995 0.34623021\n",
      " 0.36237185 0.37811494 0.39346934 0.40844464 0.42305019 0.43729513\n",
      " 0.45118836 0.46473857 0.47795422 0.49084358 0.5034147  0.51567543\n",
      " 0.52763345 0.53929622 0.55067104 0.56176501 0.57258507 0.58313798\n",
      " 0.59343034 0.60346858 0.61325898 0.62280765 0.63212056 0.64120353\n",
      " 0.65006225 0.65870224 0.66712892 0.67534753 0.68336323 0.69118102\n",
      " 0.69880579 0.7062423 ]\n"
     ]
    },
    {
     "data": {
      "image/png": "[encoded data removed]",
      "text/plain": [
       "<Figure size 640x480 with 1 Axes>"
      ]
     },
     "metadata": {},
     "output_type": "display_data"
    }
   ],
   "source": [
    "mu = 40\n",
    "x = np.arange(50)\n",
    "cdf_expon = stats.expon.cdf(x = x, scale = mu)\n",
    "print(f'The probability that we’ll have to wait less than 50 minutes for the next eruption is \\n{cdf_expon}')\n",
    "plt.plot(x,cdf_expon)\n",
    "plt.ylabel('The probability')\n",
    "plt.xlabel('Time from 0 to 50 minutes')\n",
    "plt.show()"
   ]
  },
  {
   "cell_type": "markdown",
   "metadata": {
    "id": "Wrmal4lenJID"
   },
   "source": [
    "## <a id='toc1_11_'></a>[11. Conclusion](#toc0_)\n",
    "From these Distributions we are able to find the probability of the occurance."
   ]
  },
  {
   "cell_type": "code",
   "execution_count": null,
   "metadata": {},
   "outputs": [],
   "source": []
  }
 ],
 "metadata": {
  "colab": {
   "provenance": [],
   "toc_visible": true
  },
  "kernelspec": {
   "display_name": "Python 3 (ipykernel)",
   "language": "python",
   "name": "python3"
  },
  "language_info": {
   "codemirror_mode": {
    "name": "ipython",
    "version": 3
   },
   "file_extension": ".py",
   "mimetype": "text/x-python",
   "name": "python",
   "nbconvert_exporter": "python",
   "pygments_lexer": "ipython3",
   "version": "3.11.5"
  },
  "vscode": {
   "interpreter": {
    "hash": "ff71603a556aa915c9d24f7adca11c9408c9f2a9a11ce7d673366ca727b1f00c"
   }
  }
 },
 "nbformat": 4,
 "nbformat_minor": 1
}
